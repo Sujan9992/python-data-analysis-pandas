{
 "cells": [
  {
   "cell_type": "code",
   "execution_count": null,
   "id": "7b69739c-6930-47b5-848d-9272564f8852",
   "metadata": {},
   "outputs": [],
   "source": [
    "import pandas as pd"
   ]
  },
  {
   "cell_type": "code",
   "execution_count": null,
   "id": "2a8464eb-0856-4728-aff2-79327d42d638",
   "metadata": {},
   "outputs": [],
   "source": [
    "# collect data from web\n",
    "table = pd.read_html('https://en.wikipedia.org/wiki/List_of_countries_by_GDP_(nominal)#Table')"
   ]
  },
  {
   "cell_type": "code",
   "execution_count": null,
   "id": "e9d55937-6af2-4519-970a-fd1f33b901ed",
   "metadata": {},
   "outputs": [],
   "source": [
    "for i in table:\n",
    "    print(type(i))\n",
    "    print(i.columns)"
   ]
  },
  {
   "cell_type": "code",
   "execution_count": null,
   "id": "7888c16c-5ff4-40ee-adf9-57ff60df864b",
   "metadata": {},
   "outputs": [],
   "source": [
    "df = table[2]\n",
    "df.head()"
   ]
  },
  {
   "cell_type": "code",
   "execution_count": null,
   "id": "6cec53b0-551b-4560-afe2-43f0027c0fec",
   "metadata": {},
   "outputs": [],
   "source": [
    "df.info()"
   ]
  },
  {
   "cell_type": "code",
   "execution_count": null,
   "id": "5fd425ce-1ce8-40de-ba2b-e2d6a5d80f0a",
   "metadata": {},
   "outputs": [],
   "source": [
    "# collect data from database, SQLite\n",
    "import sqlite3 as sql"
   ]
  },
  {
   "cell_type": "code",
   "execution_count": null,
   "id": "cc173780-cca9-4952-bb9b-c51c24ba9045",
   "metadata": {},
   "outputs": [],
   "source": [
    "conn = sql.connect('salaries.sqlite')\n",
    "cursor = conn.cursor()\n",
    "\n",
    "query = '''SELECT name FROM sqlite_master WHERE type='table';'''\n",
    "\n",
    "cursor.execute(query)\n",
    "results = cursor.fetchall()\n",
    "results"
   ]
  },
  {
   "cell_type": "code",
   "execution_count": null,
   "id": "7674c023-51f0-44c1-9552-78ce73cfe6a9",
   "metadata": {},
   "outputs": [],
   "source": [
    "query = '''SELECT * FROM ds_salaries'''\n",
    "\n",
    "cursor.execute(query)\n",
    "results = cursor.fetchall()\n",
    "results"
   ]
  },
  {
   "cell_type": "code",
   "execution_count": null,
   "id": "c199feb4-675d-4b15-a2f9-4831e6a16384",
   "metadata": {},
   "outputs": [],
   "source": [
    "data = pd.DataFrame(results)\n",
    "data.info()"
   ]
  },
  {
   "cell_type": "code",
   "execution_count": null,
   "id": "fa0a12fe-2c11-4f76-b16a-af0d12f09dfa",
   "metadata": {},
   "outputs": [],
   "source": [
    "cursor.close()\n",
    "conn.close()"
   ]
  },
  {
   "cell_type": "code",
   "execution_count": null,
   "id": "706c9d6b-4a49-4896-a532-5d0dbba72e90",
   "metadata": {},
   "outputs": [],
   "source": []
  }
 ],
 "metadata": {
  "kernelspec": {
   "display_name": "Python 3 (ipykernel)",
   "language": "python",
   "name": "python3"
  },
  "language_info": {
   "codemirror_mode": {
    "name": "ipython",
    "version": 3
   },
   "file_extension": ".py",
   "mimetype": "text/x-python",
   "name": "python",
   "nbconvert_exporter": "python",
   "pygments_lexer": "ipython3",
   "version": "3.12.1"
  }
 },
 "nbformat": 4,
 "nbformat_minor": 5
}
