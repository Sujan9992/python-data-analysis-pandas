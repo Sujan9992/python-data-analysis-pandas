{
 "cells": [
  {
   "cell_type": "code",
   "execution_count": null,
   "id": "cfd2cedf-0c7e-4daf-990c-70810620fdcc",
   "metadata": {},
   "outputs": [],
   "source": [
    "import pandas as pd"
   ]
  },
  {
   "cell_type": "code",
   "execution_count": null,
   "id": "3a0985a7-f690-478a-a185-36cd3f398cd1",
   "metadata": {},
   "outputs": [],
   "source": [
    "df = pd.read_csv('exams.csv', index_col='race/ethnicity')\n",
    "df"
   ]
  },
  {
   "cell_type": "code",
   "execution_count": null,
   "id": "bfe28f3b-15e4-4da4-9f4b-a344298fa93f",
   "metadata": {},
   "outputs": [],
   "source": [
    "# transpose, invert columns and indices\n",
    "df.transpose"
   ]
  },
  {
   "cell_type": "code",
   "execution_count": null,
   "id": "877900b6-2262-4b9b-812d-392348efe3db",
   "metadata": {},
   "outputs": [],
   "source": [
    "df.info()"
   ]
  },
  {
   "cell_type": "code",
   "execution_count": null,
   "id": "d3345865-f67c-4ec7-bc6d-166ec5fec2ff",
   "metadata": {},
   "outputs": [],
   "source": [
    "df.T"
   ]
  },
  {
   "cell_type": "code",
   "execution_count": null,
   "id": "13546584-334f-4e82-89a7-688d0df5b2bd",
   "metadata": {},
   "outputs": [],
   "source": [
    "# stacks all the column names and uses them as innermost index (level 1)\n",
    "df = df.stack()\n",
    "df"
   ]
  },
  {
   "cell_type": "code",
   "execution_count": null,
   "id": "fa4a77e4-12e8-4fa8-a025-df76933d3dbd",
   "metadata": {},
   "outputs": [],
   "source": [
    "pd.DataFrame(df)"
   ]
  },
  {
   "cell_type": "code",
   "execution_count": null,
   "id": "e858e765-9b3a-4dda-9747-6bbe66114356",
   "metadata": {},
   "outputs": [],
   "source": [
    "df.index"
   ]
  },
  {
   "cell_type": "code",
   "execution_count": null,
   "id": "08bc95b2-8207-427b-806d-7b7466e39839",
   "metadata": {},
   "outputs": [],
   "source": [
    "df = df.unstack()\n",
    "df"
   ]
  },
  {
   "cell_type": "code",
   "execution_count": null,
   "id": "d6c26418-617a-4133-b458-76ff5ab220fa",
   "metadata": {},
   "outputs": [],
   "source": []
  }
 ],
 "metadata": {
  "kernelspec": {
   "display_name": "Python 3 (ipykernel)",
   "language": "python",
   "name": "python3"
  },
  "language_info": {
   "codemirror_mode": {
    "name": "ipython",
    "version": 3
   },
   "file_extension": ".py",
   "mimetype": "text/x-python",
   "name": "python",
   "nbconvert_exporter": "python",
   "pygments_lexer": "ipython3",
   "version": "3.12.1"
  }
 },
 "nbformat": 4,
 "nbformat_minor": 5
}
