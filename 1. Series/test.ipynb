{
 "cells": [
  {
   "cell_type": "code",
   "execution_count": 2,
   "id": "d9451293-b428-41ae-9184-98975e8cfef5",
   "metadata": {},
   "outputs": [],
   "source": [
    "import pandas as pd"
   ]
  },
  {
   "cell_type": "code",
   "execution_count": 3,
   "id": "67840647-8371-48ec-a1c3-b6ceea52c9ab",
   "metadata": {},
   "outputs": [],
   "source": [
    "numbers:list[int] = [1,2,3,4,5,6]"
   ]
  },
  {
   "cell_type": "code",
   "execution_count": 4,
   "id": "a92fb9a6-9970-401a-a53c-bafa43bc39c2",
   "metadata": {},
   "outputs": [],
   "source": [
    "values = pd.Series(numbers)"
   ]
  },
  {
   "cell_type": "code",
   "execution_count": 5,
   "id": "570685b6-3b25-4f75-8faa-db6ad08ac51c",
   "metadata": {},
   "outputs": [
    {
     "data": {
      "text/plain": [
       "6"
      ]
     },
     "execution_count": 5,
     "metadata": {},
     "output_type": "execute_result"
    }
   ],
   "source": [
    "values.max()"
   ]
  },
  {
   "cell_type": "code",
   "execution_count": 6,
   "id": "621ea791-1dc1-4590-8fc3-4ca2e45b8c76",
   "metadata": {},
   "outputs": [
    {
     "data": {
      "text/plain": [
       "5"
      ]
     },
     "execution_count": 6,
     "metadata": {},
     "output_type": "execute_result"
    }
   ],
   "source": [
    "values.idxmax()"
   ]
  },
  {
   "cell_type": "code",
   "execution_count": 29,
   "id": "de0fc2d1-f938-4b98-bebb-0e5f76738477",
   "metadata": {},
   "outputs": [
    {
     "data": {
      "text/html": [
       "<div>\n",
       "<style scoped>\n",
       "    .dataframe tbody tr th:only-of-type {\n",
       "        vertical-align: middle;\n",
       "    }\n",
       "\n",
       "    .dataframe tbody tr th {\n",
       "        vertical-align: top;\n",
       "    }\n",
       "\n",
       "    .dataframe thead th {\n",
       "        text-align: right;\n",
       "    }\n",
       "</style>\n",
       "<table border=\"1\" class=\"dataframe\">\n",
       "  <thead>\n",
       "    <tr style=\"text-align: right;\">\n",
       "      <th></th>\n",
       "      <th>NetWorth</th>\n",
       "      <th>Age</th>\n",
       "      <th>Country/Territory</th>\n",
       "      <th>Source</th>\n",
       "      <th>Industry</th>\n",
       "    </tr>\n",
       "    <tr>\n",
       "      <th>Name</th>\n",
       "      <th></th>\n",
       "      <th></th>\n",
       "      <th></th>\n",
       "      <th></th>\n",
       "      <th></th>\n",
       "    </tr>\n",
       "  </thead>\n",
       "  <tbody>\n",
       "    <tr>\n",
       "      <th>Elon Musk</th>\n",
       "      <td>$219,000,000,000</td>\n",
       "      <td>50</td>\n",
       "      <td>United States</td>\n",
       "      <td>Tesla, SpaceX</td>\n",
       "      <td>Automotive</td>\n",
       "    </tr>\n",
       "    <tr>\n",
       "      <th>Jeff Bezos</th>\n",
       "      <td>$171,000,000,000</td>\n",
       "      <td>58</td>\n",
       "      <td>United States</td>\n",
       "      <td>Amazon</td>\n",
       "      <td>Technology</td>\n",
       "    </tr>\n",
       "    <tr>\n",
       "      <th>Bernard Arnault &amp; family</th>\n",
       "      <td>$158,000,000,000</td>\n",
       "      <td>73</td>\n",
       "      <td>France</td>\n",
       "      <td>LVMH</td>\n",
       "      <td>Fashion &amp; Retail</td>\n",
       "    </tr>\n",
       "    <tr>\n",
       "      <th>Bill Gates</th>\n",
       "      <td>$129,000,000,000</td>\n",
       "      <td>66</td>\n",
       "      <td>United States</td>\n",
       "      <td>Microsoft</td>\n",
       "      <td>Technology</td>\n",
       "    </tr>\n",
       "    <tr>\n",
       "      <th>Warren Buffett</th>\n",
       "      <td>$118,000,000,000</td>\n",
       "      <td>91</td>\n",
       "      <td>United States</td>\n",
       "      <td>Berkshire Hathaway</td>\n",
       "      <td>Finance &amp; Investments</td>\n",
       "    </tr>\n",
       "    <tr>\n",
       "      <th>...</th>\n",
       "      <td>...</td>\n",
       "      <td>...</td>\n",
       "      <td>...</td>\n",
       "      <td>...</td>\n",
       "      <td>...</td>\n",
       "    </tr>\n",
       "    <tr>\n",
       "      <th>Vladimir Potanin</th>\n",
       "      <td>$17,300,000,000</td>\n",
       "      <td>61</td>\n",
       "      <td>Russia</td>\n",
       "      <td>metals</td>\n",
       "      <td>Metals &amp; Mining</td>\n",
       "    </tr>\n",
       "    <tr>\n",
       "      <th>Harold Hamm &amp; family</th>\n",
       "      <td>$17,200,000,000</td>\n",
       "      <td>76</td>\n",
       "      <td>United States</td>\n",
       "      <td>oil &amp; gas</td>\n",
       "      <td>Energy</td>\n",
       "    </tr>\n",
       "    <tr>\n",
       "      <th>Sun Piaoyang</th>\n",
       "      <td>$17,100,000,000</td>\n",
       "      <td>63</td>\n",
       "      <td>China</td>\n",
       "      <td>pharmaceuticals</td>\n",
       "      <td>Healthcare</td>\n",
       "    </tr>\n",
       "    <tr>\n",
       "      <th>Luo Liguo &amp; family</th>\n",
       "      <td>$17,000,000,000</td>\n",
       "      <td>66</td>\n",
       "      <td>China</td>\n",
       "      <td>chemicals</td>\n",
       "      <td>Manufacturing</td>\n",
       "    </tr>\n",
       "    <tr>\n",
       "      <th>Peter Woo</th>\n",
       "      <td>$17,000,000,000</td>\n",
       "      <td>75</td>\n",
       "      <td>Hong Kong</td>\n",
       "      <td>real estate</td>\n",
       "      <td>Real Estate</td>\n",
       "    </tr>\n",
       "  </tbody>\n",
       "</table>\n",
       "<p>101 rows × 5 columns</p>\n",
       "</div>"
      ],
      "text/plain": [
       "                                  NetWorth  Age Country/Territory  \\\n",
       "Name                                                                \n",
       "Elon Musk                 $219,000,000,000   50     United States   \n",
       "Jeff Bezos                $171,000,000,000   58     United States   \n",
       "Bernard Arnault & family  $158,000,000,000   73            France   \n",
       "Bill Gates                $129,000,000,000   66     United States   \n",
       "Warren Buffett            $118,000,000,000   91     United States   \n",
       "...                                    ...  ...               ...   \n",
       "Vladimir Potanin           $17,300,000,000   61            Russia   \n",
       "Harold Hamm & family       $17,200,000,000   76     United States   \n",
       "Sun Piaoyang               $17,100,000,000   63             China   \n",
       "Luo Liguo & family         $17,000,000,000   66             China   \n",
       "Peter Woo                  $17,000,000,000   75         Hong Kong   \n",
       "\n",
       "                                      Source               Industry  \n",
       "Name                                                                 \n",
       "Elon Musk                      Tesla, SpaceX             Automotive  \n",
       "Jeff Bezos                            Amazon             Technology  \n",
       "Bernard Arnault & family                LVMH       Fashion & Retail  \n",
       "Bill Gates                         Microsoft             Technology  \n",
       "Warren Buffett            Berkshire Hathaway  Finance & Investments  \n",
       "...                                      ...                    ...  \n",
       "Vladimir Potanin                      metals        Metals & Mining  \n",
       "Harold Hamm & family               oil & gas                 Energy  \n",
       "Sun Piaoyang                 pharmaceuticals             Healthcare  \n",
       "Luo Liguo & family                 chemicals          Manufacturing  \n",
       "Peter Woo                        real estate            Real Estate  \n",
       "\n",
       "[101 rows x 5 columns]"
      ]
     },
     "execution_count": 29,
     "metadata": {},
     "output_type": "execute_result"
    }
   ],
   "source": [
    "file = pd.read_csv('TopRichestInWorld.csv', index_col=['Name'])\n",
    "file"
   ]
  },
  {
   "cell_type": "code",
   "execution_count": 31,
   "id": "b029ade3-082f-40fd-982c-7193ed49282e",
   "metadata": {},
   "outputs": [
    {
     "data": {
      "text/html": [
       "<div>\n",
       "<style scoped>\n",
       "    .dataframe tbody tr th:only-of-type {\n",
       "        vertical-align: middle;\n",
       "    }\n",
       "\n",
       "    .dataframe tbody tr th {\n",
       "        vertical-align: top;\n",
       "    }\n",
       "\n",
       "    .dataframe thead th {\n",
       "        text-align: right;\n",
       "    }\n",
       "</style>\n",
       "<table border=\"1\" class=\"dataframe\">\n",
       "  <thead>\n",
       "    <tr style=\"text-align: right;\">\n",
       "      <th></th>\n",
       "      <th>NetWorth</th>\n",
       "      <th>Age</th>\n",
       "      <th>Country/Territory</th>\n",
       "      <th>Source</th>\n",
       "      <th>Industry</th>\n",
       "    </tr>\n",
       "    <tr>\n",
       "      <th>Name</th>\n",
       "      <th></th>\n",
       "      <th></th>\n",
       "      <th></th>\n",
       "      <th></th>\n",
       "      <th></th>\n",
       "    </tr>\n",
       "  </thead>\n",
       "  <tbody>\n",
       "    <tr>\n",
       "      <th>Elon Musk</th>\n",
       "      <td>$219,000,000,000</td>\n",
       "      <td>50</td>\n",
       "      <td>United States</td>\n",
       "      <td>Tesla, SpaceX</td>\n",
       "      <td>Automotive</td>\n",
       "    </tr>\n",
       "    <tr>\n",
       "      <th>Jeff Bezos</th>\n",
       "      <td>$171,000,000,000</td>\n",
       "      <td>58</td>\n",
       "      <td>United States</td>\n",
       "      <td>Amazon</td>\n",
       "      <td>Technology</td>\n",
       "    </tr>\n",
       "    <tr>\n",
       "      <th>Bernard Arnault &amp; family</th>\n",
       "      <td>$158,000,000,000</td>\n",
       "      <td>73</td>\n",
       "      <td>France</td>\n",
       "      <td>LVMH</td>\n",
       "      <td>Fashion &amp; Retail</td>\n",
       "    </tr>\n",
       "    <tr>\n",
       "      <th>Bill Gates</th>\n",
       "      <td>$129,000,000,000</td>\n",
       "      <td>66</td>\n",
       "      <td>United States</td>\n",
       "      <td>Microsoft</td>\n",
       "      <td>Technology</td>\n",
       "    </tr>\n",
       "  </tbody>\n",
       "</table>\n",
       "</div>"
      ],
      "text/plain": [
       "                                  NetWorth  Age Country/Territory  \\\n",
       "Name                                                                \n",
       "Elon Musk                 $219,000,000,000   50     United States   \n",
       "Jeff Bezos                $171,000,000,000   58     United States   \n",
       "Bernard Arnault & family  $158,000,000,000   73            France   \n",
       "Bill Gates                $129,000,000,000   66     United States   \n",
       "\n",
       "                                 Source          Industry  \n",
       "Name                                                       \n",
       "Elon Musk                 Tesla, SpaceX        Automotive  \n",
       "Jeff Bezos                       Amazon        Technology  \n",
       "Bernard Arnault & family           LVMH  Fashion & Retail  \n",
       "Bill Gates                    Microsoft        Technology  "
      ]
     },
     "execution_count": 31,
     "metadata": {},
     "output_type": "execute_result"
    }
   ],
   "source": [
    "file['Elon Musk' : 'Bill Gates']"
   ]
  },
  {
   "cell_type": "code",
   "execution_count": 8,
   "id": "354dc631-e376-40db-b3a5-10110f15b929",
   "metadata": {},
   "outputs": [
    {
     "data": {
      "text/plain": [
       "pandas.core.frame.DataFrame"
      ]
     },
     "execution_count": 8,
     "metadata": {},
     "output_type": "execute_result"
    }
   ],
   "source": [
    "type(file)"
   ]
  },
  {
   "cell_type": "code",
   "execution_count": 33,
   "id": "4ff95f0a-c183-48af-9882-0a12f03e69b8",
   "metadata": {},
   "outputs": [
    {
     "data": {
      "text/plain": [
       "67.11881188118812"
      ]
     },
     "execution_count": 33,
     "metadata": {},
     "output_type": "execute_result"
    }
   ],
   "source": [
    "file['Age'].mean()"
   ]
  },
  {
   "cell_type": "code",
   "execution_count": 9,
   "id": "8595f6b1-a9a4-42a2-a565-471299962b5c",
   "metadata": {},
   "outputs": [
    {
     "data": {
      "text/plain": [
       "0                     Elon Musk\n",
       "1                    Jeff Bezos\n",
       "2      Bernard Arnault & family\n",
       "3                    Bill Gates\n",
       "4                Warren Buffett\n",
       "                 ...           \n",
       "96             Vladimir Potanin\n",
       "97         Harold Hamm & family\n",
       "98                 Sun Piaoyang\n",
       "99           Luo Liguo & family\n",
       "100                   Peter Woo\n",
       "Name: Name, Length: 101, dtype: object"
      ]
     },
     "execution_count": 9,
     "metadata": {},
     "output_type": "execute_result"
    }
   ],
   "source": [
    "# squeeze changes the data to series\n",
    "file2 = pd.read_csv('TopRichestInWorld.csv', usecols=[\"Name\"]).squeeze()\n",
    "file2"
   ]
  },
  {
   "cell_type": "code",
   "execution_count": 10,
   "id": "8fffb493-0f5c-4ca1-ad02-68754eff562e",
   "metadata": {},
   "outputs": [
    {
     "data": {
      "text/plain": [
       "pandas.core.series.Series"
      ]
     },
     "execution_count": 10,
     "metadata": {},
     "output_type": "execute_result"
    }
   ],
   "source": [
    "type(file2)"
   ]
  },
  {
   "cell_type": "code",
   "execution_count": 11,
   "id": "3d899bea-1954-4089-9ea9-3b01963df0ea",
   "metadata": {},
   "outputs": [],
   "source": [
    "file2.to_csv('test.csv', index=False)"
   ]
  },
  {
   "cell_type": "code",
   "execution_count": 12,
   "id": "4df43fb9-bb7b-4a2b-9db0-3e10237a47e2",
   "metadata": {},
   "outputs": [
    {
     "data": {
      "text/plain": [
       "0                   Elon Musk\n",
       "1                  Jeff Bezos\n",
       "2    Bernard Arnault & family\n",
       "3                  Bill Gates\n",
       "4              Warren Buffett\n",
       "Name: Name, dtype: object"
      ]
     },
     "execution_count": 12,
     "metadata": {},
     "output_type": "execute_result"
    }
   ],
   "source": [
    "file2.head()"
   ]
  },
  {
   "cell_type": "code",
   "execution_count": 13,
   "id": "d6556a34-87d1-4fef-a609-23f2aa531eaf",
   "metadata": {},
   "outputs": [
    {
     "data": {
      "text/plain": [
       "0                   Elon Musk\n",
       "1                  Jeff Bezos\n",
       "2    Bernard Arnault & family\n",
       "3                  Bill Gates\n",
       "4              Warren Buffett\n",
       "5                  Larry Page\n",
       "6                 Sergey Brin\n",
       "7               Larry Ellison\n",
       "8               Steve Ballmer\n",
       "9               Mukesh Ambani\n",
       "Name: Name, dtype: object"
      ]
     },
     "execution_count": 13,
     "metadata": {},
     "output_type": "execute_result"
    }
   ],
   "source": [
    "file2.head(10)"
   ]
  },
  {
   "cell_type": "code",
   "execution_count": 14,
   "id": "d6185089-8eb6-4fe5-9dd5-ebbc2a6240f0",
   "metadata": {},
   "outputs": [
    {
     "data": {
      "text/plain": [
       "0                                 Elon Musk\n",
       "1                                Jeff Bezos\n",
       "2                  Bernard Arnault & family\n",
       "3                                Bill Gates\n",
       "4                            Warren Buffett\n",
       "5                                Larry Page\n",
       "6                               Sergey Brin\n",
       "7                             Larry Ellison\n",
       "8                             Steve Ballmer\n",
       "9                             Mukesh Ambani\n",
       "10                    Gautam Adani & family\n",
       "11                        Michael Bloomberg\n",
       "12                Carlos Slim Helu & family\n",
       "13    Francoise Bettencourt Meyers & family\n",
       "14                          Mark Zuckerberg\n",
       "15                               Jim Walton\n",
       "16                           Zhong Shanshan\n",
       "17                             Alice Walton\n",
       "18                               Rob Walton\n",
       "19                           Changpeng Zhao\n",
       "20                             Charles Koch\n",
       "Name: Name, dtype: object"
      ]
     },
     "execution_count": 14,
     "metadata": {},
     "output_type": "execute_result"
    }
   ],
   "source": [
    "file2.head(-80) # all data excluding last 80"
   ]
  },
  {
   "cell_type": "code",
   "execution_count": 15,
   "id": "bf34b734-4d52-44cd-9937-0bb86b6b7769",
   "metadata": {},
   "outputs": [
    {
     "data": {
      "text/plain": [
       "96         Vladimir Potanin\n",
       "97     Harold Hamm & family\n",
       "98             Sun Piaoyang\n",
       "99       Luo Liguo & family\n",
       "100               Peter Woo\n",
       "Name: Name, dtype: object"
      ]
     },
     "execution_count": 15,
     "metadata": {},
     "output_type": "execute_result"
    }
   ],
   "source": [
    "file2.tail()"
   ]
  },
  {
   "cell_type": "code",
   "execution_count": 16,
   "id": "8e6dc076-8337-467a-bd35-67ec58ee84e5",
   "metadata": {},
   "outputs": [
    {
     "data": {
      "text/plain": [
       "0           Abigail Johnson\n",
       "1          Alain Wertheimer\n",
       "2              Alice Walton\n",
       "3            Amancio Ortega\n",
       "4            Andrew Forrest\n",
       "               ...         \n",
       "96           Warren Buffett\n",
       "97         William Lei Ding\n",
       "98     Yang Huiyan & family\n",
       "99             Zhang Yiming\n",
       "100          Zhong Shanshan\n",
       "Name: Name, Length: 101, dtype: object"
      ]
     },
     "execution_count": 16,
     "metadata": {},
     "output_type": "execute_result"
    }
   ],
   "source": [
    "# na_position are NAN values and where to place them, inplace make changes to original variable file2\n",
    "file2.sort_values(axis=0, ascending=True, kind='quicksort', na_position='last', ignore_index=True, inplace=False)"
   ]
  },
  {
   "cell_type": "code",
   "execution_count": 17,
   "id": "0c6b6436-6cd5-433f-be6d-2c455aae07d7",
   "metadata": {},
   "outputs": [
    {
     "data": {
      "text/plain": [
       "100                   Peter Woo\n",
       "99           Luo Liguo & family\n",
       "98                 Sun Piaoyang\n",
       "97         Harold Hamm & family\n",
       "96             Vladimir Potanin\n",
       "                 ...           \n",
       "4                Warren Buffett\n",
       "3                    Bill Gates\n",
       "2      Bernard Arnault & family\n",
       "1                    Jeff Bezos\n",
       "0                     Elon Musk\n",
       "Name: Name, Length: 101, dtype: object"
      ]
     },
     "execution_count": 17,
     "metadata": {},
     "output_type": "execute_result"
    }
   ],
   "source": [
    "file2.sort_index(ascending=False)"
   ]
  },
  {
   "cell_type": "code",
   "execution_count": 19,
   "id": "fda04d1e-7546-4b82-893f-246a154a1cc3",
   "metadata": {},
   "outputs": [
    {
     "data": {
      "text/plain": [
       "0                 Automotive\n",
       "1                 Technology\n",
       "2           Fashion & Retail\n",
       "3                 Technology\n",
       "4      Finance & Investments\n",
       "               ...          \n",
       "96           Metals & Mining\n",
       "97                    Energy\n",
       "98                Healthcare\n",
       "99             Manufacturing\n",
       "100              Real Estate\n",
       "Name: Industry, Length: 101, dtype: object"
      ]
     },
     "execution_count": 19,
     "metadata": {},
     "output_type": "execute_result"
    }
   ],
   "source": [
    "industry = pd.read_csv('TopRichestInWorld.csv', usecols=['Industry']).squeeze()\n",
    "industry"
   ]
  },
  {
   "cell_type": "code",
   "execution_count": 21,
   "id": "ab649b84-f25f-45ea-91fb-420074d3c62d",
   "metadata": {},
   "outputs": [
    {
     "data": {
      "text/plain": [
       "Industry\n",
       "Fashion & Retail         18\n",
       "Technology               15\n",
       "Finance & Investments    13\n",
       "Metals & Mining           9\n",
       "Food & Beverage           8\n",
       "Automotive                7\n",
       "Diversified               6\n",
       "Manufacturing             5\n",
       "Healthcare                5\n",
       "Media & Entertainment     4\n",
       "Real Estate               3\n",
       "Telecom                   2\n",
       "Logistics                 2\n",
       "Energy                    2\n",
       "Gambling & Casinos        1\n",
       "Service                   1\n",
       "Name: count, dtype: int64"
      ]
     },
     "execution_count": 21,
     "metadata": {},
     "output_type": "execute_result"
    }
   ],
   "source": [
    "industry.value_counts()"
   ]
  },
  {
   "cell_type": "code",
   "execution_count": 23,
   "id": "9788390d-5616-4f2d-8332-f116090838c6",
   "metadata": {},
   "outputs": [
    {
     "data": {
      "text/plain": [
       "Industry\n",
       "Fashion & Retail         0.178218\n",
       "Technology               0.148515\n",
       "Finance & Investments    0.128713\n",
       "Metals & Mining          0.089109\n",
       "Food & Beverage          0.079208\n",
       "Automotive               0.069307\n",
       "Diversified              0.059406\n",
       "Manufacturing            0.049505\n",
       "Healthcare               0.049505\n",
       "Media & Entertainment    0.039604\n",
       "Real Estate              0.029703\n",
       "Telecom                  0.019802\n",
       "Logistics                0.019802\n",
       "Energy                   0.019802\n",
       "Gambling & Casinos       0.009901\n",
       "Service                  0.009901\n",
       "Name: proportion, dtype: float64"
      ]
     },
     "execution_count": 23,
     "metadata": {},
     "output_type": "execute_result"
    }
   ],
   "source": [
    "# normalize = True for percentage\n",
    "industry.value_counts(normalize=True, sort=True)"
   ]
  },
  {
   "cell_type": "code",
   "execution_count": 25,
   "id": "16e5a033-d575-443f-b7fe-50220aef7b55",
   "metadata": {},
   "outputs": [
    {
     "data": {
      "text/plain": [
       "'Technology'"
      ]
     },
     "execution_count": 25,
     "metadata": {},
     "output_type": "execute_result"
    }
   ],
   "source": [
    "industry[1]"
   ]
  },
  {
   "cell_type": "code",
   "execution_count": 27,
   "id": "ca5cabf7-cc69-415d-bd4d-8c21464f1dc3",
   "metadata": {},
   "outputs": [
    {
     "data": {
      "text/plain": [
       "1          Technology\n",
       "2    Fashion & Retail\n",
       "3          Technology\n",
       "9         Diversified\n",
       "Name: Industry, dtype: object"
      ]
     },
     "execution_count": 27,
     "metadata": {},
     "output_type": "execute_result"
    }
   ],
   "source": [
    "industry[[1,2,3,9]]"
   ]
  }
 ],
 "metadata": {
  "kernelspec": {
   "display_name": "Python 3 (ipykernel)",
   "language": "python",
   "name": "python3"
  },
  "language_info": {
   "codemirror_mode": {
    "name": "ipython",
    "version": 3
   },
   "file_extension": ".py",
   "mimetype": "text/x-python",
   "name": "python",
   "nbconvert_exporter": "python",
   "pygments_lexer": "ipython3",
   "version": "3.12.1"
  }
 },
 "nbformat": 4,
 "nbformat_minor": 5
}
