{
 "cells": [
  {
   "cell_type": "code",
   "execution_count": null,
   "id": "64495cd9-0d74-4f73-86a1-49da0046b837",
   "metadata": {},
   "outputs": [],
   "source": []
  }
 ],
 "metadata": {
  "kernelspec": {
   "display_name": "",
   "name": ""
  },
  "language_info": {
   "name": ""
  }
 },
 "nbformat": 4,
 "nbformat_minor": 5
}
