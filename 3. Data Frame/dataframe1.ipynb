{
 "cells": [
  {
   "cell_type": "code",
   "execution_count": 1,
   "id": "dcadd7cf-57b1-462e-83eb-9f60c5b9021d",
   "metadata": {},
   "outputs": [],
   "source": [
    "import pandas as pd"
   ]
  },
  {
   "cell_type": "code",
   "execution_count": 2,
   "id": "0fd0f5cd-a91e-4566-b45b-a8ff5f53cdbf",
   "metadata": {},
   "outputs": [],
   "source": [
    "data = pd.read_csv('TopRichestInWorld.csv')"
   ]
  },
  {
   "cell_type": "code",
   "execution_count": 3,
   "id": "92718018-bd99-4f8a-81cb-0d40f1454deb",
   "metadata": {},
   "outputs": [
    {
     "data": {
      "text/plain": [
       "Index(['Name', 'NetWorth', 'Age', 'Country/Territory', 'Source', 'Industry'], dtype='object')"
      ]
     },
     "execution_count": 3,
     "metadata": {},
     "output_type": "execute_result"
    }
   ],
   "source": [
    "data.columns"
   ]
  },
  {
   "cell_type": "code",
   "execution_count": 4,
   "id": "561c440d-35d5-44a9-b2e9-9ab58f961cd6",
   "metadata": {},
   "outputs": [
    {
     "data": {
      "text/plain": [
       "RangeIndex(start=0, stop=101, step=1)"
      ]
     },
     "execution_count": 4,
     "metadata": {},
     "output_type": "execute_result"
    }
   ],
   "source": [
    "data.index"
   ]
  },
  {
   "cell_type": "code",
   "execution_count": 5,
   "id": "63479116-8747-4883-845a-deb3ed53f018",
   "metadata": {},
   "outputs": [
    {
     "data": {
      "text/plain": [
       "606"
      ]
     },
     "execution_count": 5,
     "metadata": {},
     "output_type": "execute_result"
    }
   ],
   "source": [
    "data.size"
   ]
  },
  {
   "cell_type": "code",
   "execution_count": 6,
   "id": "dee45ed3-2afd-43bc-a874-0182ec1f0d3a",
   "metadata": {},
   "outputs": [
    {
     "data": {
      "text/plain": [
       "(101, 6)"
      ]
     },
     "execution_count": 6,
     "metadata": {},
     "output_type": "execute_result"
    }
   ],
   "source": [
    "data.shape"
   ]
  },
  {
   "cell_type": "code",
   "execution_count": 7,
   "id": "29a76869-a2bd-4043-a844-e2d23455fd91",
   "metadata": {},
   "outputs": [
    {
     "data": {
      "text/plain": [
       "0                     Elon Musk\n",
       "1                    Jeff Bezos\n",
       "2      Bernard Arnault & family\n",
       "3                    Bill Gates\n",
       "4                Warren Buffett\n",
       "                 ...           \n",
       "96             Vladimir Potanin\n",
       "97         Harold Hamm & family\n",
       "98                 Sun Piaoyang\n",
       "99           Luo Liguo & family\n",
       "100                   Peter Woo\n",
       "Name: Name, Length: 101, dtype: object"
      ]
     },
     "execution_count": 7,
     "metadata": {},
     "output_type": "execute_result"
    }
   ],
   "source": [
    "# calling column by dot notation\n",
    "data.Name"
   ]
  },
  {
   "cell_type": "code",
   "execution_count": 8,
   "id": "c96809a3-82d4-41df-92a8-0f46dc3586c6",
   "metadata": {},
   "outputs": [
    {
     "data": {
      "text/plain": [
       "[RangeIndex(start=0, stop=101, step=1),\n",
       " Index(['Name', 'NetWorth', 'Age', 'Country/Territory', 'Source', 'Industry'], dtype='object')]"
      ]
     },
     "execution_count": 8,
     "metadata": {},
     "output_type": "execute_result"
    }
   ],
   "source": [
    "# info about index and column\n",
    "data.axes"
   ]
  },
  {
   "cell_type": "code",
   "execution_count": 9,
   "id": "90eece54-3a6f-4b33-956f-7b97cff81a51",
   "metadata": {},
   "outputs": [
    {
     "data": {
      "text/plain": [
       "Name                 object\n",
       "NetWorth             object\n",
       "Age                   int64\n",
       "Country/Territory    object\n",
       "Source               object\n",
       "Industry             object\n",
       "dtype: object"
      ]
     },
     "execution_count": 9,
     "metadata": {},
     "output_type": "execute_result"
    }
   ],
   "source": [
    "data.dtypes"
   ]
  },
  {
   "cell_type": "code",
   "execution_count": 10,
   "id": "78ca7d33-5466-4fc6-8e21-9a35f0c31ffa",
   "metadata": {},
   "outputs": [
    {
     "data": {
      "text/plain": [
       "array([['Elon Musk', '$219,000,000,000', 50, 'United States',\n",
       "        'Tesla, SpaceX', 'Automotive'],\n",
       "       ['Jeff Bezos', '$171,000,000,000', 58, 'United States', 'Amazon',\n",
       "        'Technology'],\n",
       "       ['Bernard Arnault & family', '$158,000,000,000', 73, 'France',\n",
       "        'LVMH', 'Fashion & Retail'],\n",
       "       ['Bill Gates', '$129,000,000,000', 66, 'United States',\n",
       "        'Microsoft', 'Technology'],\n",
       "       ['Warren Buffett', '$118,000,000,000', 91, 'United States',\n",
       "        'Berkshire Hathaway', 'Finance & Investments'],\n",
       "       ['Larry Page', '$111,000,000,000', 49, 'United States', 'Google',\n",
       "        'Technology'],\n",
       "       ['Sergey Brin', '$107,000,000,000', 48, 'United States', 'Google',\n",
       "        'Technology'],\n",
       "       ['Larry Ellison', '$106,000,000,000', 77, 'United States',\n",
       "        'software', 'Technology'],\n",
       "       ['Steve Ballmer', '$91,400,000,000', 66, 'United States',\n",
       "        'Microsoft', 'Technology'],\n",
       "       ['Mukesh Ambani', '$90,700,000,000', 64, 'India', 'diversified',\n",
       "        'Diversified'],\n",
       "       ['Gautam Adani & family', '$90,000,000,000', 59, 'India',\n",
       "        'infrastructure, commodities', 'Diversified'],\n",
       "       ['Michael Bloomberg', '$82,000,000,000', 80, 'United States',\n",
       "        'Bloomberg LP', 'Media & Entertainment'],\n",
       "       ['Carlos Slim Helu & family', '$81,200,000,000', 82, 'Mexico',\n",
       "        'telecom', 'Telecom'],\n",
       "       ['Francoise Bettencourt Meyers & family', '$74,800,000,000', 68,\n",
       "        'France', \"L'Oréal\", 'Fashion & Retail'],\n",
       "       ['Mark Zuckerberg', '$67,300,000,000', 37, 'United States',\n",
       "        'Facebook', 'Technology'],\n",
       "       ['Jim Walton', '$66,200,000,000', 73, 'United States', 'Walmart',\n",
       "        'Fashion & Retail'],\n",
       "       ['Zhong Shanshan', '$65,700,000,000', 67, 'China',\n",
       "        'beverages, pharmaceuticals', 'Food & Beverage'],\n",
       "       ['Alice Walton', '$65,300,000,000', 72, 'United States',\n",
       "        'Walmart', 'Fashion & Retail'],\n",
       "       ['Rob Walton', '$65,000,000,000', 77, 'United States', 'Walmart',\n",
       "        'Fashion & Retail'],\n",
       "       ['Changpeng Zhao', '$65,000,000,000', 44, 'Canada',\n",
       "        'cryptocurrency exchange', 'Finance & Investments'],\n",
       "       ['Charles Koch', '$60,000,000,000', 86, 'United States',\n",
       "        'Koch Industries', 'Diversified'],\n",
       "       ['Julia Koch & family', '$60,000,000,000', 59, 'United States',\n",
       "        'Koch Industries', 'Diversified'],\n",
       "       ['Amancio Ortega', '$59,600,000,000', 86, 'Spain', 'Zara',\n",
       "        'Fashion & Retail'],\n",
       "       ['Michael Dell', '$55,100,000,000', 57, 'United States',\n",
       "        'Dell computers', 'Technology'],\n",
       "       ['Zhang Yiming', '$50,000,000,000', 38, 'China', 'TikTok',\n",
       "        'Media & Entertainment'],\n",
       "       ['David Thomson & family', '$49,200,000,000', 64, 'Canada',\n",
       "        'media', 'Media & Entertainment'],\n",
       "       ['Phil Knight & family', '$47,300,000,000', 84, 'United States',\n",
       "        'Nike', 'Fashion & Retail'],\n",
       "       ['Dieter Schwarz', '$47,100,000,000', 82, 'Germany', 'retail',\n",
       "        'Fashion & Retail'],\n",
       "       ['Robin Zeng', '$44,800,000,000', 53, 'Hong Kong', 'batteries',\n",
       "        'Automotive'],\n",
       "       ['MacKenzie Scott', '$43,600,000,000', 51, 'United States',\n",
       "        'Amazon', 'Technology'],\n",
       "       ['Rodolphe Saadé & family', '$41,400,000,000', 52, 'France',\n",
       "        'shipping', 'Logistics'],\n",
       "       ['François Pinault & family', '$40,400,000,000', 85, 'France',\n",
       "        'luxury goods', 'Fashion & Retail'],\n",
       "       ['Klaus-Michael Kuehne', '$37,300,000,000', 84, 'Germany',\n",
       "        'shipping', 'Logistics'],\n",
       "       ['Ma Huateng', '$37,200,000,000', 50, 'China', 'internet media',\n",
       "        'Technology'],\n",
       "       ['Beate Heister & Karl Albrecht Jr. & family', '$36,800,000,000',\n",
       "        50, 'Germany', 'supermarkets', 'Fashion & Retail'],\n",
       "       ['Giovanni Ferrero', '$36,200,000,000', 57, 'Italy',\n",
       "        'Nutella, chocolates', 'Food & Beverage'],\n",
       "       ['Li Ka-shing', '$34,800,000,000', 93, 'Hong Kong', 'diversified',\n",
       "        'Diversified'],\n",
       "       ['Stephen Schwarzman', '$34,800,000,000', 75, 'United States',\n",
       "        'investments', 'Finance & Investments'],\n",
       "       ['Lee Shau Kee', '$32,600,000,000', 94, 'Hong Kong',\n",
       "        'real estate', 'Real Estate'],\n",
       "       ['Len Blavatnik', '$32,500,000,000', 64, 'United States',\n",
       "        'music, chemicals', 'Diversified'],\n",
       "       ['Jacqueline Mars', '$31,700,000,000', 82, 'United States',\n",
       "        'candy, pet food', 'Food & Beverage'],\n",
       "       ['John Mars', '$31,700,000,000', 86, 'United States',\n",
       "        'candy, pet food', 'Food & Beverage'],\n",
       "       ['Alain Wertheimer', '$31,200,000,000', 73, 'France', 'Chanel',\n",
       "        'Fashion & Retail'],\n",
       "       ['Gerard Wertheimer', '$31,200,000,000', 71, 'France', 'Chanel',\n",
       "        'Fashion & Retail'],\n",
       "       ['German Larrea Mota Velasco & family', '$30,800,000,000', 68,\n",
       "        'Mexico', 'mining', 'Metals & Mining'],\n",
       "       ['Gina Rinehart', '$30,200,000,000', 68, 'Australia', 'mining',\n",
       "        'Metals & Mining'],\n",
       "       ['Shiv Nadar', '$28,700,000,000', 76, 'India',\n",
       "        'software services', 'Technology'],\n",
       "       ['Jim Simons', '$28,600,000,000', 83, 'United States',\n",
       "        'hedge funds', 'Finance & Investments'],\n",
       "       ['He Xiangjian', '$28,300,000,000', 79, 'China',\n",
       "        'home appliances', 'Manufacturing'],\n",
       "       ['Miriam Adelson', '$27,500,000,000', 76, 'United States',\n",
       "        'casinos', 'Gambling & Casinos'],\n",
       "       ['Dietrich Mateschitz', '$27,400,000,000', 77, 'Austria',\n",
       "        'Red Bull', 'Food & Beverage'],\n",
       "       ['Leonardo Del Vecchio & family', '$27,300,000,000', 86, 'Italy',\n",
       "        'eyeglasses', 'Fashion & Retail'],\n",
       "       ['Ken Griffin', '$27,200,000,000', 53, 'United States',\n",
       "        'hedge funds', 'Finance & Investments'],\n",
       "       ['Tadashi Yanai & family', '$26,100,000,000', 73, 'Japan',\n",
       "        'fashion retail', 'Fashion & Retail'],\n",
       "       ['William Lei Ding', '$25,200,000,000', 50, 'China',\n",
       "        'online games', 'Technology'],\n",
       "       ['Susanne Klatten', '$24,300,000,000', 59, 'Germany',\n",
       "        'BMW, pharmaceuticals', 'Automotive'],\n",
       "       ['Cyrus Poonawalla', '$24,300,000,000', 80, 'India', 'vaccines',\n",
       "        'Healthcare'],\n",
       "       ['Wang Wei', '$24,300,000,000', 51, 'China', 'package delivery',\n",
       "        'Service'],\n",
       "       ['Qin Yinglin', '$24,100,000,000', 56, 'China', 'pig breeding',\n",
       "        'Food & Beverage'],\n",
       "       ['Sam Bankman-Fried', '$24,000,000,000', 30, 'United States',\n",
       "        'cryptocurrency exchange', 'Finance & Investments'],\n",
       "       ['Takemitsu Takizaki', '$23,900,000,000', 76, 'Japan', 'sensors',\n",
       "        'Manufacturing'],\n",
       "       ['Li Shufu', '$23,700,000,000', 58, 'China', 'automobiles',\n",
       "        'Automotive'],\n",
       "       ['Emmanuel Besnier', '$23,500,000,000', 51, 'France', 'cheese',\n",
       "        'Food & Beverage'],\n",
       "       ['R. Budi Hartono', '$23,200,000,000', 81, 'Indonesia',\n",
       "        'banking, tobacco', 'Finance & Investments'],\n",
       "       ['Leonard Lauder', '$23,100,000,000', 89, 'United States',\n",
       "        'Estee Lauder', 'Fashion & Retail'],\n",
       "       ['Guillaume Pousaz', '$23,000,000,000', 40, 'Switzerland',\n",
       "        'fintech', 'Finance & Investments'],\n",
       "       ['Iris Fontbona & family', '$22,800,000,000', 79, 'Chile',\n",
       "        'mining', 'Metals & Mining'],\n",
       "       ['Jack Ma', '$22,800,000,000', 57, 'China', 'e-commerce',\n",
       "        'Technology'],\n",
       "       ['Michael Hartono', '$22,300,000,000', 82, 'Indonesia',\n",
       "        'banking, tobacco', 'Manufacturing'],\n",
       "       ['Eric Schmidt', '$22,100,000,000', 66, 'United States', 'Google',\n",
       "        'Technology'],\n",
       "       ['Ray Dalio', '$22,000,000,000', 72, 'United States',\n",
       "        'hedge funds', 'Finance & Investments'],\n",
       "       ['Daniel Gilbert', '$22,000,000,000', 60, 'United States',\n",
       "        'Quicken Loans', 'Finance & Investments'],\n",
       "       ['Thomas Frist, Jr. & family', '$21,800,000,000', 83,\n",
       "        'United States', 'hospitals', 'Healthcare'],\n",
       "       ['Masayoshi Son', '$21,300,000,000', 64, 'Japan',\n",
       "        'internet, telecom', 'Telecom'],\n",
       "       ['Abigail Johnson', '$21,200,000,000', 60, 'United States',\n",
       "        'money management', 'Finance & Investments'],\n",
       "       ['Rupert Murdoch & family', '$20,800,000,000', 91,\n",
       "        'United States', 'newspapers, TV network',\n",
       "        'Media & Entertainment'],\n",
       "       ['Stefan Quandt', '$20,700,000,000', 55, 'Germany', 'BMW',\n",
       "        'Automotive'],\n",
       "       ['Jensen Huang', '$20,600,000,000', 59, 'United States',\n",
       "        'semiconductors', 'Technology'],\n",
       "       ['Huang Shilin', '$20,300,000,000', 55, 'China', 'batteries',\n",
       "        'Automotive'],\n",
       "       ['Thomas Peterffy', '$20,100,000,000', 77, 'United States',\n",
       "        'discount brokerage', 'Finance & Investments'],\n",
       "       ['Radhakishan Damani', '$20,000,000,000', 67, 'India',\n",
       "        'retail, investments', 'Fashion & Retail'],\n",
       "       ['Pang Kang', '$19,600,000,000', 66, 'China', 'soy sauce',\n",
       "        'Food & Beverage'],\n",
       "       ['Wang Chuanfu', '$19,500,000,000', 56, 'China',\n",
       "        'batteries, automobiles', 'Automotive'],\n",
       "       ['Reinhold Wuerth & family', '$19,000,000,000', 86, 'Germany',\n",
       "        'fasteners', 'Manufacturing'],\n",
       "       ['Theo Albrecht, Jr. & family', '$18,700,000,000', 71, 'Germany',\n",
       "        \"Aldi, Trader Joe's\", 'Fashion & Retail'],\n",
       "       ['Yang Huiyan & family', '$18,700,000,000', 40, 'China',\n",
       "        'real estate', 'Real Estate'],\n",
       "       ['Vladimir Lisin', '$18,400,000,000', 65, 'Russia',\n",
       "        'steel, transport', 'Metals & Mining'],\n",
       "       ['Fan Hongwei & family', '$18,200,000,000', 55, 'China',\n",
       "        'petrochemicals', 'Energy'],\n",
       "       ['Lakshmi Mittal', '$17,900,000,000', 71, 'India', 'steel',\n",
       "        'Metals & Mining'],\n",
       "       ['Andrew Forrest', '$17,800,000,000', 60, 'Australia', 'mining',\n",
       "        'Metals & Mining'],\n",
       "       ['Jiang Rensheng & family', '$17,700,000,000', 68, 'China',\n",
       "        'vaccines', 'Healthcare'],\n",
       "       ['Savitri Jindal & family', '$17,700,000,000', 72, 'India',\n",
       "        'steel', 'Metals & Mining'],\n",
       "       ['Wang Wenyin', '$17,700,000,000', 54, 'China',\n",
       "        'mining, copper products', 'Metals & Mining'],\n",
       "       ['Li Xiting', '$17,600,000,000', 71, 'Singapore',\n",
       "        'medical devices', 'Healthcare'],\n",
       "       ['Stefan Persson', '$17,600,000,000', 74, 'Sweden', 'H&M',\n",
       "        'Fashion & Retail'],\n",
       "       ['Steve Cohen', '$17,400,000,000', 65, 'United States',\n",
       "        'hedge funds', 'Finance & Investments'],\n",
       "       ['Vladimir Potanin', '$17,300,000,000', 61, 'Russia', 'metals',\n",
       "        'Metals & Mining'],\n",
       "       ['Harold Hamm & family', '$17,200,000,000', 76, 'United States',\n",
       "        'oil & gas', 'Energy'],\n",
       "       ['Sun Piaoyang', '$17,100,000,000', 63, 'China',\n",
       "        'pharmaceuticals', 'Healthcare'],\n",
       "       ['Luo Liguo & family', '$17,000,000,000', 66, 'China',\n",
       "        'chemicals', 'Manufacturing'],\n",
       "       ['Peter Woo', '$17,000,000,000', 75, 'Hong Kong', 'real estate',\n",
       "        'Real Estate']], dtype=object)"
      ]
     },
     "execution_count": 10,
     "metadata": {},
     "output_type": "execute_result"
    }
   ],
   "source": [
    "data.values"
   ]
  },
  {
   "cell_type": "code",
   "execution_count": 11,
   "id": "4005495e-af28-4d1a-a92f-d1237907ab2d",
   "metadata": {},
   "outputs": [
    {
     "data": {
      "text/plain": [
       "6779"
      ]
     },
     "execution_count": 11,
     "metadata": {},
     "output_type": "execute_result"
    }
   ],
   "source": [
    "data['Age'].sum()"
   ]
  },
  {
   "cell_type": "code",
   "execution_count": 12,
   "id": "b1c65aa6-ba93-43bf-8f08-559214e97320",
   "metadata": {},
   "outputs": [
    {
     "data": {
      "text/plain": [
       "94"
      ]
     },
     "execution_count": 12,
     "metadata": {},
     "output_type": "execute_result"
    }
   ],
   "source": [
    "data.Age.max()"
   ]
  },
  {
   "cell_type": "code",
   "execution_count": null,
   "id": "0bd89fcd-1119-42a3-863f-55a22f999391",
   "metadata": {},
   "outputs": [],
   "source": []
  }
 ],
 "metadata": {
  "kernelspec": {
   "display_name": "Python 3 (ipykernel)",
   "language": "python",
   "name": "python3"
  },
  "language_info": {
   "codemirror_mode": {
    "name": "ipython",
    "version": 3
   },
   "file_extension": ".py",
   "mimetype": "text/x-python",
   "name": "python",
   "nbconvert_exporter": "python",
   "pygments_lexer": "ipython3",
   "version": "3.12.1"
  }
 },
 "nbformat": 4,
 "nbformat_minor": 5
}
