{
 "cells": [
  {
   "cell_type": "code",
   "execution_count": 1,
   "id": "2fd1daa0-00f1-4fb6-b98a-ce0d3c40677c",
   "metadata": {},
   "outputs": [],
   "source": [
    "import numpy as np"
   ]
  },
  {
   "cell_type": "code",
   "execution_count": 2,
   "id": "823422da-694f-40fa-b2f8-3a61b83d9a62",
   "metadata": {},
   "outputs": [
    {
     "data": {
      "text/plain": [
       "(6,)"
      ]
     },
     "execution_count": 2,
     "metadata": {},
     "output_type": "execute_result"
    }
   ],
   "source": [
    "arr = np.array([1,2,3,4,5,6])\n",
    "arr.shape"
   ]
  },
  {
   "cell_type": "code",
   "execution_count": 3,
   "id": "05699c28-af84-46f9-be4b-17e966f5495f",
   "metadata": {},
   "outputs": [
    {
     "data": {
      "text/plain": [
       "array([[1, 2, 3, 4, 5, 6]])"
      ]
     },
     "execution_count": 3,
     "metadata": {},
     "output_type": "execute_result"
    }
   ],
   "source": [
    "arr2 = arr[np.newaxis, :] # add new axis as row\n",
    "arr2"
   ]
  },
  {
   "cell_type": "code",
   "execution_count": 4,
   "id": "b7bdb4c8-5e19-44b9-8e8f-cb1291ea8a08",
   "metadata": {},
   "outputs": [
    {
     "data": {
      "text/plain": [
       "(1, 6)"
      ]
     },
     "execution_count": 4,
     "metadata": {},
     "output_type": "execute_result"
    }
   ],
   "source": [
    "arr2.shape"
   ]
  },
  {
   "cell_type": "code",
   "execution_count": 5,
   "id": "037b8773-c161-4cb8-a96e-674c1a519d2b",
   "metadata": {},
   "outputs": [
    {
     "data": {
      "text/plain": [
       "array([[1],\n",
       "       [2],\n",
       "       [3],\n",
       "       [4],\n",
       "       [5],\n",
       "       [6]])"
      ]
     },
     "execution_count": 5,
     "metadata": {},
     "output_type": "execute_result"
    }
   ],
   "source": [
    "arr3 = arr[:, np.newaxis] # add new axis as column\n",
    "arr3"
   ]
  },
  {
   "cell_type": "code",
   "execution_count": 6,
   "id": "5aea8450-b82e-44c8-ab28-b09a8d99e374",
   "metadata": {},
   "outputs": [
    {
     "data": {
      "text/plain": [
       "(6, 1)"
      ]
     },
     "execution_count": 6,
     "metadata": {},
     "output_type": "execute_result"
    }
   ],
   "source": [
    "arr3.shape"
   ]
  },
  {
   "cell_type": "code",
   "execution_count": 7,
   "id": "36438515-4c8c-4445-b79f-f3a7c2db293c",
   "metadata": {},
   "outputs": [
    {
     "data": {
      "text/plain": [
       "array([[1],\n",
       "       [2],\n",
       "       [3],\n",
       "       [4],\n",
       "       [5],\n",
       "       [6]])"
      ]
     },
     "execution_count": 7,
     "metadata": {},
     "output_type": "execute_result"
    }
   ],
   "source": [
    "arr4 = np.expand_dims(arr, axis=1)\n",
    "arr4"
   ]
  },
  {
   "cell_type": "code",
   "execution_count": 8,
   "id": "797be806-2351-4e26-8410-95606c890138",
   "metadata": {},
   "outputs": [
    {
     "data": {
      "text/plain": [
       "array([4, 5, 6])"
      ]
     },
     "execution_count": 8,
     "metadata": {},
     "output_type": "execute_result"
    }
   ],
   "source": [
    "arr[arr>3]"
   ]
  },
  {
   "cell_type": "code",
   "execution_count": 9,
   "id": "7c6dcd50-ca98-414e-bdc2-6c231e9dea59",
   "metadata": {},
   "outputs": [
    {
     "data": {
      "text/plain": [
       "array([2, 4, 6])"
      ]
     },
     "execution_count": 9,
     "metadata": {},
     "output_type": "execute_result"
    }
   ],
   "source": [
    "num = arr[arr%2==0]\n",
    "num"
   ]
  },
  {
   "cell_type": "code",
   "execution_count": 10,
   "id": "6e1dc494-eb7a-4c40-8395-fe5b5fddfe1b",
   "metadata": {},
   "outputs": [
    {
     "data": {
      "text/plain": [
       "array([[1, 2],\n",
       "       [2, 2],\n",
       "       [2, 2],\n",
       "       [3, 2]])"
      ]
     },
     "execution_count": 10,
     "metadata": {},
     "output_type": "execute_result"
    }
   ],
   "source": [
    "arr1 = [[1,2], [2,2]]\n",
    "arr2 = [[2,2], [3,2]]\n",
    "np.vstack((arr1, arr2))"
   ]
  },
  {
   "cell_type": "code",
   "execution_count": 11,
   "id": "8bdb9e1b-4ca7-4873-a004-d6ddfb4b3fd2",
   "metadata": {},
   "outputs": [
    {
     "data": {
      "text/plain": [
       "array([[1, 2, 2, 2],\n",
       "       [2, 2, 3, 2]])"
      ]
     },
     "execution_count": 11,
     "metadata": {},
     "output_type": "execute_result"
    }
   ],
   "source": [
    "np.hstack((arr1, arr2))"
   ]
  },
  {
   "cell_type": "code",
   "execution_count": 12,
   "id": "124e7e20-0980-40f1-a182-fa2f4e4d0406",
   "metadata": {},
   "outputs": [
    {
     "data": {
      "text/plain": [
       "array([[ 1,  2,  3,  4,  5,  6],\n",
       "       [ 7,  8,  9, 10, 11, 12]])"
      ]
     },
     "execution_count": 12,
     "metadata": {},
     "output_type": "execute_result"
    }
   ],
   "source": [
    "arr5 = np.arange(1,13).reshape(2,6)\n",
    "arr5"
   ]
  },
  {
   "cell_type": "code",
   "execution_count": 13,
   "id": "4b5c1371-19f8-459c-9061-5f83f554dce0",
   "metadata": {},
   "outputs": [
    {
     "data": {
      "text/plain": [
       "[array([1, 2]), array([3, 4]), array([5, 6])]"
      ]
     },
     "execution_count": 13,
     "metadata": {},
     "output_type": "execute_result"
    }
   ],
   "source": [
    "np.hsplit(arr, 3)"
   ]
  },
  {
   "cell_type": "code",
   "execution_count": 14,
   "id": "ac0e9353-14b3-4c90-8d86-01928881de00",
   "metadata": {},
   "outputs": [
    {
     "data": {
      "text/plain": [
       "array([0, 1, 2, 3, 4, 5, 6, 7, 8, 9])"
      ]
     },
     "execution_count": 14,
     "metadata": {},
     "output_type": "execute_result"
    }
   ],
   "source": [
    "original = np.arange(10)\n",
    "original"
   ]
  },
  {
   "cell_type": "code",
   "execution_count": 15,
   "id": "29ff52eb-e75b-46f5-9fa4-778986cdca2a",
   "metadata": {},
   "outputs": [
    {
     "data": {
      "text/plain": [
       "array([3, 4, 5])"
      ]
     },
     "execution_count": 15,
     "metadata": {},
     "output_type": "execute_result"
    }
   ],
   "source": [
    "new_arr = original[3:6]\n",
    "new_arr"
   ]
  },
  {
   "cell_type": "code",
   "execution_count": 16,
   "id": "21c29db4-cc48-41d8-ae42-f44813939ca8",
   "metadata": {},
   "outputs": [
    {
     "data": {
      "text/plain": [
       "array([99,  4,  5])"
      ]
     },
     "execution_count": 16,
     "metadata": {},
     "output_type": "execute_result"
    }
   ],
   "source": [
    "new_arr[0] = 99\n",
    "new_arr"
   ]
  },
  {
   "cell_type": "code",
   "execution_count": 17,
   "id": "d39dfd21-5bdf-47e2-85c6-ed40ac067755",
   "metadata": {},
   "outputs": [
    {
     "data": {
      "text/plain": [
       "array([ 0,  1,  2, 99,  4,  5,  6,  7,  8,  9])"
      ]
     },
     "execution_count": 17,
     "metadata": {},
     "output_type": "execute_result"
    }
   ],
   "source": [
    "original # created shallow copy modofoed original array"
   ]
  },
  {
   "cell_type": "code",
   "execution_count": 18,
   "id": "b992242b-3d15-4228-9b63-27a75aeda3e4",
   "metadata": {},
   "outputs": [
    {
     "data": {
      "text/plain": [
       "array([ 0,  1,  2, 99,  4,  5,  6,  7,  8,  9])"
      ]
     },
     "execution_count": 18,
     "metadata": {},
     "output_type": "execute_result"
    }
   ],
   "source": [
    "# deep copy\n",
    "new_arr2 = original.copy()\n",
    "new_arr2"
   ]
  },
  {
   "cell_type": "code",
   "execution_count": 19,
   "id": "f61070df-884f-4eb8-89ff-3c1f3ac2b9d4",
   "metadata": {},
   "outputs": [
    {
     "data": {
      "text/plain": [
       "array([99,  1,  2, 99,  4,  5,  6,  7,  8,  9])"
      ]
     },
     "execution_count": 19,
     "metadata": {},
     "output_type": "execute_result"
    }
   ],
   "source": [
    "new_arr2[0] = 99\n",
    "new_arr2"
   ]
  },
  {
   "cell_type": "code",
   "execution_count": 20,
   "id": "af7ff8d7-3e9a-436b-a660-39337a847258",
   "metadata": {},
   "outputs": [
    {
     "data": {
      "text/plain": [
       "array([ 0,  1,  2, 99,  4,  5,  6,  7,  8,  9])"
      ]
     },
     "execution_count": 20,
     "metadata": {},
     "output_type": "execute_result"
    }
   ],
   "source": [
    "original"
   ]
  },
  {
   "cell_type": "code",
   "execution_count": 21,
   "id": "adbcaead-b470-4e1f-ad93-3a31e1b3450d",
   "metadata": {},
   "outputs": [
    {
     "data": {
      "text/plain": [
       "array([2, 4, 6])"
      ]
     },
     "execution_count": 21,
     "metadata": {},
     "output_type": "execute_result"
    }
   ],
   "source": [
    "arr1 = np.array([1,2,3])\n",
    "arr2 = np.array([1,2,3])\n",
    "\n",
    "arr1 + arr2 # element wise operation"
   ]
  },
  {
   "cell_type": "code",
   "execution_count": 22,
   "id": "be28bbc0-c6fe-4be4-b3a4-2eabae070256",
   "metadata": {},
   "outputs": [
    {
     "data": {
      "text/plain": [
       "array([0, 0, 0])"
      ]
     },
     "execution_count": 22,
     "metadata": {},
     "output_type": "execute_result"
    }
   ],
   "source": [
    "arr1 - arr2"
   ]
  },
  {
   "cell_type": "code",
   "execution_count": 23,
   "id": "355e6547-9b8f-4cb2-b711-f7a79bd8e756",
   "metadata": {},
   "outputs": [
    {
     "data": {
      "text/plain": [
       "6"
      ]
     },
     "execution_count": 23,
     "metadata": {},
     "output_type": "execute_result"
    }
   ],
   "source": [
    "arr1.sum()"
   ]
  },
  {
   "cell_type": "code",
   "execution_count": 24,
   "id": "67f5cd00-f1e1-429b-a9c5-5f5cbbce873f",
   "metadata": {},
   "outputs": [
    {
     "data": {
      "text/plain": [
       "array([2, 4, 6])"
      ]
     },
     "execution_count": 24,
     "metadata": {},
     "output_type": "execute_result"
    }
   ],
   "source": [
    "arr1 * 2"
   ]
  },
  {
   "cell_type": "code",
   "execution_count": null,
   "id": "01a643d4-fd99-475c-83f3-69ec04817a01",
   "metadata": {},
   "outputs": [],
   "source": []
  }
 ],
 "metadata": {
  "kernelspec": {
   "display_name": "Python 3 (ipykernel)",
   "language": "python",
   "name": "python3"
  },
  "language_info": {
   "codemirror_mode": {
    "name": "ipython",
    "version": 3
   },
   "file_extension": ".py",
   "mimetype": "text/x-python",
   "name": "python",
   "nbconvert_exporter": "python",
   "pygments_lexer": "ipython3",
   "version": "3.12.1"
  }
 },
 "nbformat": 4,
 "nbformat_minor": 5
}
