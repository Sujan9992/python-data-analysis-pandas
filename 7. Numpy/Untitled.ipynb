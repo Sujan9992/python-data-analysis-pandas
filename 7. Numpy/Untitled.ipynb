{
 "cells": [
  {
   "cell_type": "code",
   "execution_count": 1,
   "id": "62e4f4a8-96d3-444d-babc-36cbae5269a2",
   "metadata": {},
   "outputs": [],
   "source": [
    "import numpy as np"
   ]
  },
  {
   "cell_type": "code",
   "execution_count": 2,
   "id": "8f0e9d2b-6812-438e-abb7-036505dca1ab",
   "metadata": {},
   "outputs": [
    {
     "name": "stdout",
     "output_type": "stream",
     "text": [
      "<class 'str'>\n",
      "<class 'int'>\n",
      "<class 'bool'>\n"
     ]
    }
   ],
   "source": [
    "list1 = ['a', 1, True]\n",
    "for i in list1:\n",
    "    print(type(i))"
   ]
  },
  {
   "cell_type": "code",
   "execution_count": 3,
   "id": "d9f3b186-d519-4e1a-aa79-b779d8d991d6",
   "metadata": {},
   "outputs": [
    {
     "name": "stdout",
     "output_type": "stream",
     "text": [
      "<class 'numpy.str_'>\n",
      "<class 'numpy.str_'>\n",
      "<class 'numpy.str_'>\n"
     ]
    }
   ],
   "source": [
    "# only store one type of data\n",
    "arr = np.array([1,'a',True])\n",
    "for i in arr:\n",
    "    print(type(i))"
   ]
  },
  {
   "cell_type": "code",
   "execution_count": 4,
   "id": "cf431c2d-3133-4656-b1f5-e91ffc416cb0",
   "metadata": {},
   "outputs": [],
   "source": [
    "# 1-dimensional array or vector\n",
    "arr1 = np.array([1,2,3,4])\n",
    "# 2-dimensional array or matrix\n",
    "arr2 = np.array([[1,2,3,4], [5,6,7,8]])"
   ]
  },
  {
   "cell_type": "code",
   "execution_count": 5,
   "id": "a6d16ca7-a4be-49dc-9054-059671ddc41c",
   "metadata": {},
   "outputs": [
    {
     "data": {
      "text/plain": [
       "1"
      ]
     },
     "execution_count": 5,
     "metadata": {},
     "output_type": "execute_result"
    }
   ],
   "source": [
    "arr1[0]"
   ]
  },
  {
   "cell_type": "code",
   "execution_count": 6,
   "id": "05fb9bdf-570e-4378-971b-77adcebc31c7",
   "metadata": {},
   "outputs": [
    {
     "data": {
      "text/plain": [
       "array([5, 6, 7, 8])"
      ]
     },
     "execution_count": 6,
     "metadata": {},
     "output_type": "execute_result"
    }
   ],
   "source": [
    "arr2[-1]"
   ]
  },
  {
   "cell_type": "code",
   "execution_count": 7,
   "id": "3384c164-c639-4f99-a774-9f49c0188d89",
   "metadata": {},
   "outputs": [
    {
     "data": {
      "text/plain": [
       "(2, 4)"
      ]
     },
     "execution_count": 7,
     "metadata": {},
     "output_type": "execute_result"
    }
   ],
   "source": [
    "arr2.shape"
   ]
  },
  {
   "cell_type": "code",
   "execution_count": 8,
   "id": "487c5d05-5e64-428a-910d-cac7c2c4def8",
   "metadata": {},
   "outputs": [
    {
     "data": {
      "text/plain": [
       "dtype('int32')"
      ]
     },
     "execution_count": 8,
     "metadata": {},
     "output_type": "execute_result"
    }
   ],
   "source": [
    "arr2.dtype"
   ]
  },
  {
   "cell_type": "code",
   "execution_count": 9,
   "id": "c0e08086-ea1c-4bb6-84a6-b4d086070e38",
   "metadata": {},
   "outputs": [
    {
     "data": {
      "text/plain": [
       "array(['1', '2', '3'], dtype='<U1')"
      ]
     },
     "execution_count": 9,
     "metadata": {},
     "output_type": "execute_result"
    }
   ],
   "source": [
    "arr4 = np.array([1,2,3], dtype='str')\n",
    "arr4"
   ]
  },
  {
   "cell_type": "code",
   "execution_count": 10,
   "id": "1ea1130e-81aa-45e0-a082-f7e09d5f23ac",
   "metadata": {},
   "outputs": [
    {
     "data": {
      "text/plain": [
       "array([0., 0., 0., 0., 0.])"
      ]
     },
     "execution_count": 10,
     "metadata": {},
     "output_type": "execute_result"
    }
   ],
   "source": [
    "arr5 = np.zeros(5)\n",
    "arr5"
   ]
  },
  {
   "cell_type": "code",
   "execution_count": 11,
   "id": "ca1e14db-451e-47b5-955e-776cbfacda4c",
   "metadata": {},
   "outputs": [
    {
     "data": {
      "text/plain": [
       "array([1., 1., 1., 1., 1., 1.])"
      ]
     },
     "execution_count": 11,
     "metadata": {},
     "output_type": "execute_result"
    }
   ],
   "source": [
    "arr6 = np.ones(6)\n",
    "arr6"
   ]
  },
  {
   "cell_type": "code",
   "execution_count": 12,
   "id": "24e756e7-b496-45f4-9886-94d5f65079ee",
   "metadata": {},
   "outputs": [
    {
     "data": {
      "text/plain": [
       "array([2.41907520e-312, 2.14321575e-312, 0.00000000e+000, 0.00000000e+000,\n",
       "       0.00000000e+000, 1.78022341e-306, 2.33423131e-312])"
      ]
     },
     "execution_count": 12,
     "metadata": {},
     "output_type": "execute_result"
    }
   ],
   "source": [
    "arr7 = np.empty(7)\n",
    "arr7"
   ]
  },
  {
   "cell_type": "code",
   "execution_count": 13,
   "id": "3b87a750-2dde-43e6-86f6-c093c4579c3e",
   "metadata": {},
   "outputs": [
    {
     "data": {
      "text/plain": [
       "array([0, 1, 2, 3, 4, 5, 6, 7])"
      ]
     },
     "execution_count": 13,
     "metadata": {},
     "output_type": "execute_result"
    }
   ],
   "source": [
    "arr8 = np.arange(8)\n",
    "arr8"
   ]
  },
  {
   "cell_type": "code",
   "execution_count": 14,
   "id": "1b145f13-4edf-4a06-861f-87906846e6dc",
   "metadata": {},
   "outputs": [
    {
     "data": {
      "text/plain": [
       "array([1, 3, 4, 7, 9])"
      ]
     },
     "execution_count": 14,
     "metadata": {},
     "output_type": "execute_result"
    }
   ],
   "source": [
    "np.sort([3,7,9,1,4])"
   ]
  },
  {
   "cell_type": "code",
   "execution_count": 15,
   "id": "867b45c2-1752-4990-88ea-c54e4798f7d7",
   "metadata": {},
   "outputs": [
    {
     "data": {
      "text/plain": [
       "array([1, 2, 3, 4, 5, 6])"
      ]
     },
     "execution_count": 15,
     "metadata": {},
     "output_type": "execute_result"
    }
   ],
   "source": [
    "arr_a = np.array([1,2,3])\n",
    "arr_b = np.array([4,5,6])\n",
    "np.concatenate((arr_a, arr_b))"
   ]
  },
  {
   "cell_type": "code",
   "execution_count": 16,
   "id": "2a0d5784-ea40-41dd-b863-fffc878a4c32",
   "metadata": {},
   "outputs": [
    {
     "data": {
      "text/plain": [
       "array([[1, 2, 3, 4, 5, 6],\n",
       "       [4, 5, 6, 7, 8, 9]])"
      ]
     },
     "execution_count": 16,
     "metadata": {},
     "output_type": "execute_result"
    }
   ],
   "source": [
    "arr_c = np.array([[1,2,3], [4,5,6]])\n",
    "arr_d = np.array([[4,5,6], [7,8,9]])\n",
    "np.concatenate((arr_c, arr_d), axis=1)"
   ]
  },
  {
   "cell_type": "code",
   "execution_count": 17,
   "id": "8bcc7131-f85a-4e07-9859-0bde7ec562c7",
   "metadata": {},
   "outputs": [
    {
     "data": {
      "text/plain": [
       "array([[1, 2, 3],\n",
       "       [4, 5, 6],\n",
       "       [4, 5, 6],\n",
       "       [7, 8, 9]])"
      ]
     },
     "execution_count": 17,
     "metadata": {},
     "output_type": "execute_result"
    }
   ],
   "source": [
    "np.concatenate((arr_c, arr_d), axis=0)"
   ]
  },
  {
   "cell_type": "code",
   "execution_count": 18,
   "id": "404909ee-dd58-4e5e-a3d5-476e50e4feb7",
   "metadata": {},
   "outputs": [
    {
     "data": {
      "text/plain": [
       "array([[[1, 2, 3],\n",
       "        [4, 5, 6]],\n",
       "\n",
       "       [[2, 3, 4],\n",
       "        [5, 6, 7]],\n",
       "\n",
       "       [[1, 6, 9],\n",
       "        [6, 8, 9]]])"
      ]
     },
     "execution_count": 18,
     "metadata": {},
     "output_type": "execute_result"
    }
   ],
   "source": [
    "arr_9 = np.array([[[1,2,3], [4,5,6]], [[2,3,4], [5,6,7]], [[1,6,9], [6,8,9]]])\n",
    "arr_9"
   ]
  },
  {
   "cell_type": "code",
   "execution_count": 19,
   "id": "cf009a2c-70ab-450e-b778-4984acd1674b",
   "metadata": {},
   "outputs": [
    {
     "data": {
      "text/plain": [
       "3"
      ]
     },
     "execution_count": 19,
     "metadata": {},
     "output_type": "execute_result"
    }
   ],
   "source": [
    "arr_9.ndim # returns no. of dimensions"
   ]
  },
  {
   "cell_type": "code",
   "execution_count": 20,
   "id": "59df7987-d798-40c8-adb9-1362bde66cde",
   "metadata": {},
   "outputs": [
    {
     "data": {
      "text/plain": [
       "(3, 2, 3)"
      ]
     },
     "execution_count": 20,
     "metadata": {},
     "output_type": "execute_result"
    }
   ],
   "source": [
    "arr_9.shape # 3 lists contains 2 list that contains 3 elements"
   ]
  },
  {
   "cell_type": "code",
   "execution_count": 21,
   "id": "c5ee613e-56ad-4dfe-b44f-a8f736d4895a",
   "metadata": {},
   "outputs": [
    {
     "data": {
      "text/plain": [
       "array([[1, 2, 3],\n",
       "       [4, 5, 6]])"
      ]
     },
     "execution_count": 21,
     "metadata": {},
     "output_type": "execute_result"
    }
   ],
   "source": [
    "arr10 = np.array([1,2,3,4,5,6])\n",
    "arr10.reshape(2,3) # 2 lists of 3 elements"
   ]
  },
  {
   "cell_type": "code",
   "execution_count": 22,
   "id": "8cede720-68bd-45bd-a68c-c1775807a4c1",
   "metadata": {},
   "outputs": [
    {
     "data": {
      "text/plain": [
       "array([[1, 2],\n",
       "       [3, 4],\n",
       "       [5, 6]])"
      ]
     },
     "execution_count": 22,
     "metadata": {},
     "output_type": "execute_result"
    }
   ],
   "source": [
    "arr10.reshape(3,2)"
   ]
  },
  {
   "cell_type": "code",
   "execution_count": null,
   "id": "6324e246-e4c2-405c-baed-b5285d24cf9a",
   "metadata": {},
   "outputs": [],
   "source": []
  }
 ],
 "metadata": {
  "kernelspec": {
   "display_name": "Python 3 (ipykernel)",
   "language": "python",
   "name": "python3"
  },
  "language_info": {
   "codemirror_mode": {
    "name": "ipython",
    "version": 3
   },
   "file_extension": ".py",
   "mimetype": "text/x-python",
   "name": "python",
   "nbconvert_exporter": "python",
   "pygments_lexer": "ipython3",
   "version": "3.12.1"
  }
 },
 "nbformat": 4,
 "nbformat_minor": 5
}
