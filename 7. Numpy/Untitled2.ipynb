{
 "cells": [
  {
   "cell_type": "code",
   "execution_count": 1,
   "id": "872ea824-15fa-45cb-9890-14a454fb5cac",
   "metadata": {},
   "outputs": [],
   "source": [
    "import numpy as np"
   ]
  },
  {
   "cell_type": "code",
   "execution_count": 2,
   "id": "035e9a9b-651d-40f2-847d-23bdcc7884a2",
   "metadata": {},
   "outputs": [
    {
     "data": {
      "text/plain": [
       "array([[1, 2],\n",
       "       [3, 4],\n",
       "       [5, 6]])"
      ]
     },
     "execution_count": 2,
     "metadata": {},
     "output_type": "execute_result"
    }
   ],
   "source": [
    "# matrices, 2D - array\n",
    "arr = np.array([[1,2], [3,4], [5,6]])\n",
    "arr"
   ]
  },
  {
   "cell_type": "code",
   "execution_count": 3,
   "id": "16255044-4e7e-4cf8-98ce-24abd342ce06",
   "metadata": {},
   "outputs": [
    {
     "data": {
      "text/plain": [
       "5"
      ]
     },
     "execution_count": 3,
     "metadata": {},
     "output_type": "execute_result"
    }
   ],
   "source": [
    "arr[2][0] # last list, first index"
   ]
  },
  {
   "cell_type": "code",
   "execution_count": 4,
   "id": "a30f0108-9307-45cb-9f46-25e2948b45ba",
   "metadata": {},
   "outputs": [
    {
     "data": {
      "text/plain": [
       "Generator(PCG64) at 0x1999B555E00"
      ]
     },
     "execution_count": 4,
     "metadata": {},
     "output_type": "execute_result"
    }
   ],
   "source": [
    "# random numbers\n",
    "arr1 = np.random.default_rng()\n",
    "arr1"
   ]
  },
  {
   "cell_type": "code",
   "execution_count": 5,
   "id": "444fb3f4-4363-4c02-bce8-eeafa4d1bd5f",
   "metadata": {},
   "outputs": [
    {
     "data": {
      "text/plain": [
       "array([[3, 3, 2, 3],\n",
       "       [1, 1, 4, 4],\n",
       "       [4, 4, 2, 3]], dtype=int64)"
      ]
     },
     "execution_count": 5,
     "metadata": {},
     "output_type": "execute_result"
    }
   ],
   "source": [
    "arr1.integers(low=1, high=5, size=(3,4))"
   ]
  },
  {
   "cell_type": "code",
   "execution_count": 6,
   "id": "f5e91a10-eb9b-4f19-a817-52797d72560c",
   "metadata": {},
   "outputs": [
    {
     "data": {
      "text/plain": [
       "array([[0.75204365, 0.62423838, 0.15928744],\n",
       "       [0.27333747, 0.7718836 , 0.62650876]])"
      ]
     },
     "execution_count": 6,
     "metadata": {},
     "output_type": "execute_result"
    }
   ],
   "source": [
    "arr1.random(size=(2,3))"
   ]
  },
  {
   "cell_type": "code",
   "execution_count": 7,
   "id": "e7ce3ef3-fef7-4b3a-92b3-f4a719e3be41",
   "metadata": {},
   "outputs": [
    {
     "data": {
      "text/plain": [
       "array([1, 2, 3, 4, 5, 6])"
      ]
     },
     "execution_count": 7,
     "metadata": {},
     "output_type": "execute_result"
    }
   ],
   "source": [
    "# find unique elements\n",
    "arr2 = np.array([1,2,3,4,5,6,1,2])\n",
    "np.unique(arr)"
   ]
  },
  {
   "cell_type": "code",
   "execution_count": 8,
   "id": "9a4aac9e-14d4-4661-a5ef-75d5442fe402",
   "metadata": {},
   "outputs": [
    {
     "data": {
      "text/plain": [
       "(array([1, 2, 3, 4, 5, 6]),\n",
       " array([0, 1, 2, 3, 4, 5], dtype=int64),\n",
       " array([1, 1, 1, 1, 1, 1], dtype=int64))"
      ]
     },
     "execution_count": 8,
     "metadata": {},
     "output_type": "execute_result"
    }
   ],
   "source": [
    "np.unique(arr, return_index=True, return_counts=True)"
   ]
  },
  {
   "cell_type": "code",
   "execution_count": 9,
   "id": "376e89e7-cf71-4500-81fb-d52b9970f180",
   "metadata": {},
   "outputs": [
    {
     "data": {
      "text/plain": [
       "array([[1, 3, 5],\n",
       "       [2, 4, 6]])"
      ]
     },
     "execution_count": 9,
     "metadata": {},
     "output_type": "execute_result"
    }
   ],
   "source": [
    "# transpose\n",
    "arr.transpose()"
   ]
  },
  {
   "cell_type": "code",
   "execution_count": 10,
   "id": "02698d95-77fc-489c-83ec-d364c28faca9",
   "metadata": {},
   "outputs": [
    {
     "data": {
      "text/plain": [
       "array([[1, 3, 5],\n",
       "       [2, 4, 6]])"
      ]
     },
     "execution_count": 10,
     "metadata": {},
     "output_type": "execute_result"
    }
   ],
   "source": [
    "arr.T"
   ]
  },
  {
   "cell_type": "code",
   "execution_count": 11,
   "id": "bc28223e-c72c-4a7a-b85e-43ef782e16ab",
   "metadata": {},
   "outputs": [
    {
     "data": {
      "text/plain": [
       "array([2, 1, 6, 5, 4, 3, 2, 1])"
      ]
     },
     "execution_count": 11,
     "metadata": {},
     "output_type": "execute_result"
    }
   ],
   "source": [
    "# reversing arrays\n",
    "np.flip(arr2)"
   ]
  },
  {
   "cell_type": "code",
   "execution_count": 12,
   "id": "acefedf9-c992-4273-804b-d8e85789eab2",
   "metadata": {},
   "outputs": [
    {
     "data": {
      "text/plain": [
       "array([[6, 5],\n",
       "       [4, 3],\n",
       "       [2, 1]])"
      ]
     },
     "execution_count": 12,
     "metadata": {},
     "output_type": "execute_result"
    }
   ],
   "source": [
    "np.flip(arr)"
   ]
  },
  {
   "cell_type": "code",
   "execution_count": 13,
   "id": "fa6df765-55c7-4aad-a555-123f14ed621d",
   "metadata": {},
   "outputs": [
    {
     "data": {
      "text/plain": [
       "array([[2, 1],\n",
       "       [4, 3],\n",
       "       [6, 5]])"
      ]
     },
     "execution_count": 13,
     "metadata": {},
     "output_type": "execute_result"
    }
   ],
   "source": [
    "np.flip(arr, axis=1)"
   ]
  },
  {
   "cell_type": "code",
   "execution_count": 14,
   "id": "2b8eb6ed-29a9-4434-8a44-ef5830f59d9d",
   "metadata": {},
   "outputs": [
    {
     "data": {
      "text/plain": [
       "array([1, 2, 3, 4, 5, 6])"
      ]
     },
     "execution_count": 14,
     "metadata": {},
     "output_type": "execute_result"
    }
   ],
   "source": [
    "# flattening multi-dimensional array\n",
    "arr.flatten()"
   ]
  },
  {
   "cell_type": "code",
   "execution_count": 15,
   "id": "f7bb3e28-dc7d-4a4f-9a26-92c4350ed2df",
   "metadata": {},
   "outputs": [
    {
     "data": {
      "text/plain": [
       "array([1, 2, 3, 4, 5, 6])"
      ]
     },
     "execution_count": 15,
     "metadata": {},
     "output_type": "execute_result"
    }
   ],
   "source": [
    "arr.ravel() # deep copy"
   ]
  },
  {
   "cell_type": "code",
   "execution_count": 16,
   "id": "03cd9935-8804-4492-9e1b-bd4a98f38250",
   "metadata": {},
   "outputs": [
    {
     "data": {
      "text/plain": [
       "array([[1, 2],\n",
       "       [3, 4],\n",
       "       [5, 6]])"
      ]
     },
     "execution_count": 16,
     "metadata": {},
     "output_type": "execute_result"
    }
   ],
   "source": [
    "# saving and loading numpy obj as binary file\n",
    "np.save('array.npy', arr) # np.save store single ndarray obj, np.savez for multi\n",
    "np.load('array.npy')"
   ]
  },
  {
   "cell_type": "code",
   "execution_count": 17,
   "id": "ad8e732d-dbef-48c1-92c0-33ffc026ef26",
   "metadata": {},
   "outputs": [],
   "source": [
    "# savetxt, loadtxt for .txt"
   ]
  }
 ],
 "metadata": {
  "kernelspec": {
   "display_name": "Python 3 (ipykernel)",
   "language": "python",
   "name": "python3"
  },
  "language_info": {
   "codemirror_mode": {
    "name": "ipython",
    "version": 3
   },
   "file_extension": ".py",
   "mimetype": "text/x-python",
   "name": "python",
   "nbconvert_exporter": "python",
   "pygments_lexer": "ipython3",
   "version": "3.12.1"
  }
 },
 "nbformat": 4,
 "nbformat_minor": 5
}
